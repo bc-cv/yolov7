{
 "cells": [
  {
   "cell_type": "markdown",
   "metadata": {
    "id": "Vp8a_aWOgDyN"
   },
   "source": [
    "# <b>1. Model setup</b>"
   ]
  },
  {
   "cell_type": "code",
   "execution_count": null,
   "metadata": {
    "id": "utxvpmuibcI7"
   },
   "outputs": [],
   "source": [
    "import os\n",
    "\n",
    "# Download model weight\n",
    "if not os.path.exists('yolov7.pt'):\n",
    "  # Download model weight\n",
    "  ! wget https://github.com/WongKinYiu/yolov7/releases/download/v0.1/yolov7.pt -O yolov7.pt\n",
    "\n",
    "\n",
    "# Create the model\n",
    "from traffic_detector import TrafficDetector\n",
    "detector = TrafficDetector()\n",
    "detector.set_conf('weights', 'yolov7.pt')\n",
    "detector.setup_model()"
   ]
  },
  {
   "cell_type": "markdown",
   "metadata": {
    "id": "tARL6gWQgO7L"
   },
   "source": [
    "# <b>2. Test on one image</b>"
   ]
  },
  {
   "cell_type": "code",
   "execution_count": null,
   "metadata": {
    "colab": {
     "base_uri": "https://localhost:8080/",
     "height": 322
    },
    "id": "aId1iLXtb7KA",
    "outputId": "b5464210-d69d-49f0-f869-1c698de99cf9"
   },
   "outputs": [],
   "source": [
    "import cv2\n",
    "import matplotlib.pyplot as plt\n",
    "%matplotlib inline  \n",
    "plt.rcParams[\"figure.figsize\"] = (40,10)\n",
    "\n",
    "\n",
    "img = cv2.imread('data/vehicle_test.png')\n",
    "output=detector.detect(img)\n",
    "# cv2.imread: BGR -> plt.imshow(rgb)\n",
    "plt.subplot(121)\n",
    "plt.imshow(img[:,:,::-1])\n",
    "plt.title('Input image')\n",
    "plt.axis('off')\n",
    "\n",
    "plt.subplot(122)\n",
    "plt.imshow(output[:,:,::-1])\n",
    "plt.title('Detection result')\n",
    "plt.axis('off')\n",
    "plt.show()"
   ]
  },
  {
   "cell_type": "markdown",
   "metadata": {},
   "source": [
    "# <b>3. Test on a video</b>\n",
    "\n",
    "You can click on the button to switch between diplaying the original video frame and the detection results."
   ]
  },
  {
   "cell_type": "code",
   "execution_count": null,
   "metadata": {},
   "outputs": [],
   "source": [
    "import matplotlib.pyplot as plt\n",
    "import cv2\n",
    "import numpy as np\n",
    "from IPython.display import display, Image\n",
    "import ipywidgets as widgets\n",
    "import threading\n",
    "\n",
    "# Detect button\n",
    "# ================\n",
    "detect_button = widgets.ToggleButton(\n",
    "    value=False,\n",
    "    description='Vehicle Detection',\n",
    "    disabled=False,\n",
    "    button_style='danger', # 'success', 'info', 'warning', 'danger' or ''\n",
    "    tooltip='Description',\n",
    "    icon='square' # (FontAwesome names without the `fa-` prefix)\n",
    ")\n",
    "\n",
    "\n",
    "# Display function\n",
    "# ================\n",
    "def view(button, video_source):\n",
    "    cap = cv2.VideoCapture(video_source)\n",
    "    display_handle=display(None, display_id=True)\n",
    "    i = 0\n",
    "    while True:\n",
    "        _, frame = cap.read()\n",
    "        frame = cv2.flip(frame, 1) # if your camera reverses your image\n",
    "        if detect_button.value==True:\n",
    "            # do detection\n",
    "            frame = detector.detect(frame, output_ratio=2)\n",
    "            button.description = 'Original Frame'\n",
    "        else:\n",
    "            button.description = 'Vehicle Detection'\n",
    "        _, frame = cv2.imencode('.jpeg', frame)\n",
    "        display_handle.update(Image(data=frame.tobytes()))\n",
    "                \n",
    "    # close the video and the display\n",
    "    cap.release()\n",
    "    display_handle.update(None)\n",
    "\n",
    "            \n",
    "# Run\n",
    "# ================\n",
    "display(detect_button)\n",
    "video_source = 'data/vehicle_test.mp4'\n",
    "thread = threading.Thread(target=view, args=(detect_button, video_source))\n",
    "thread.start()"
   ]
  },
  {
   "cell_type": "markdown",
   "metadata": {
    "id": "YenVewKipny6"
   },
   "source": [
    "# <b>4. Test on Live camera stream</b>"
   ]
  },
  {
   "cell_type": "code",
   "execution_count": null,
   "metadata": {
    "colab": {
     "base_uri": "https://localhost:8080/"
    },
    "id": "4lTHBG2IdgdC",
    "outputId": "981b8097-d639-4008-f480-7f376422906c"
   },
   "outputs": [],
   "source": [
    "!pip install --force-reinstall git+https://github.com/ytdl-org/youtube-dl.git@master\n",
    "!pip install --force-reinstall git+https://github.com/donglaiw/pafy.git@develop"
   ]
  },
  {
   "cell_type": "code",
   "execution_count": null,
   "metadata": {},
   "outputs": [],
   "source": [
    "import pafy\n",
    "\n",
    "# get live traffic camera source\n",
    "url = \"https://youtu.be/5_XSYlAfJZM\"\n",
    "video = pafy.new(url)\n",
    "best = video.getbest(preftype=\"mp4\")\n",
    "\n",
    "\n",
    "# Run\n",
    "# ================\n",
    "video_source = best.url\n",
    "display(detect_button)\n",
    "thread = threading.Thread(target=view, args=(detect_button, video_source))\n",
    "thread.start()"
   ]
  }
 ],
 "metadata": {
  "accelerator": "GPU",
  "colab": {
   "provenance": []
  },
  "gpuClass": "standard",
  "kernelspec": {
   "display_name": "Python 3",
   "language": "python",
   "name": "python3"
  },
  "language_info": {
   "codemirror_mode": {
    "name": "ipython",
    "version": 3
   },
   "file_extension": ".py",
   "mimetype": "text/x-python",
   "name": "python",
   "nbconvert_exporter": "python",
   "pygments_lexer": "ipython3",
   "version": "3.8.8"
  }
 },
 "nbformat": 4,
 "nbformat_minor": 4
}
