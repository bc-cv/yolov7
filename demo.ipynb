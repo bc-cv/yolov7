{
 "cells": [
  {
   "cell_type": "markdown",
   "metadata": {
    "id": "Ys8MtwegQOjc"
   },
   "source": [
    "# <b>1. Model setup</b>"
   ]
  },
  {
   "cell_type": "code",
   "execution_count": null,
   "metadata": {
    "id": "utxvpmuibcI7"
   },
   "outputs": [],
   "source": [
    "import os\n",
    "\n",
    "# Download model weight\n",
    "if not os.path.exists('yolov7.pt'):\n",
    "  # Download model weight\n",
    "  !curl -L -o yolov7.pt https://github.com/WongKinYiu/yolov7/releases/download/v0.1/yolov7.pt\n",
    "\n",
    "# Create the model\n",
    "from detect_isu import ObjectDetector\n",
    "detector = ObjectDetector()\n",
    "detector.set_conf('weights', 'yolov7.pt')\n",
    "detector.setup_model()"
   ]
  },
  {
   "cell_type": "markdown",
   "metadata": {
    "id": "tARL6gWQgO7L"
   },
   "source": [
    "# <b>2. Test on one image</b>"
   ]
  },
  {
   "cell_type": "markdown",
   "metadata": {
    "id": "o2uFYdhKmOBq"
   },
   "source": [
    "## 2.1 Read and display the image"
   ]
  },
  {
   "cell_type": "code",
   "execution_count": null,
   "metadata": {
    "id": "aId1iLXtb7KA"
   },
   "outputs": [],
   "source": [
    "import cv2\n",
    "%matplotlib inline\n",
    "import matplotlib.pyplot as plt\n",
    "plt.rcParams[\"figure.figsize\"] = (40,10)\n",
    "\n",
    "# read the image\n",
    "img = cv2.imread('inference/images/vehicle_test.png')\n",
    "\n",
    "# display the image\n",
    "# cv2.imread: BGR -> plt.imshow(rgb)\n",
    "plt.imshow(img[:, :, ::-1])\n",
    "plt.title('Input image')\n",
    "plt.axis('off')\n",
    "plt.show()"
   ]
  },
  {
   "cell_type": "markdown",
   "metadata": {
    "id": "RrzOGyJ8mTAe"
   },
   "source": [
    "## 2.2 Run vehicle detection"
   ]
  },
  {
   "cell_type": "code",
   "execution_count": null,
   "metadata": {
    "id": "PXBSkdRvmTHe"
   },
   "outputs": [],
   "source": [
    "output_box = detector.detect(img, ['truck', 'bus', 'car'], do_visual=False)\n",
    "print(f\"detect {output_box.shape[0]} objects\")\n",
    "print(\"The output is a Nx6 matrix\")\n",
    "print(\"Each row is one detection: box coordinates, prediction confidence, class_id\")\n",
    "print('--------')\n",
    "print(\"Let's look at the first detection\")\n",
    "print(output_box[0])"
   ]
  },
  {
   "cell_type": "markdown",
   "metadata": {
    "id": "xBbTO-JQmTOe"
   },
   "source": [
    "# 2.3 Plot the detection result on the image"
   ]
  },
  {
   "cell_type": "code",
   "execution_count": null,
   "metadata": {
    "id": "h43SqBu3mTVg"
   },
   "outputs": [],
   "source": [
    "output_visual = detector.plot_box(img[:, :, ::-1], output_box)\n",
    "plt.imshow(output_visual)\n",
    "plt.title('Detetion results')\n",
    "plt.axis('off')\n",
    "plt.show()"
   ]
  },
  {
   "cell_type": "markdown",
   "metadata": {
    "id": "YenVewKipny6"
   },
   "source": [
    "# <b>3. Test on one video</b>"
   ]
  },
  {
   "cell_type": "markdown",
   "metadata": {
    "id": "PiCSlu6Kx32P"
   },
   "source": [
    "## 3.1 Display the video"
   ]
  },
  {
   "cell_type": "code",
   "execution_count": null,
   "metadata": {
    "id": "JS6jJWLux3Vf"
   },
   "outputs": [],
   "source": [
    "from IPython.display import HTML\n",
    "from base64 import b64encode\n",
    "\n",
    "def show_video(video_path, video_width = 600):   \n",
    "  video_file = open(video_path, \"r+b\").read() \n",
    "  video_url = f\"data:video/mp4;base64,{b64encode(video_file).decode()}\"\n",
    "  return HTML(f\"\"\"<video width={video_width} controls><source src=\"{video_url}\"></video>\"\"\")\n",
    " \n",
    "video_source = 'inference/videos/vehicle_test.mp4'\n",
    "show_video(video_source)"
   ]
  },
  {
   "cell_type": "markdown",
   "metadata": {
    "id": "gQfKHxz8yDEQ"
   },
   "source": [
    "## 3.2 Run detection and save result\n",
    "\n",
    "To save time, run it on the first 100 frames."
   ]
  },
  {
   "cell_type": "code",
   "execution_count": null,
   "metadata": {
    "id": "RuiR-0Gdprwj"
   },
   "outputs": [],
   "source": [
    "import cv2\n",
    "\n",
    "cap = cv2.VideoCapture(video_source)\n",
    "fps = cap.get(cv2.CAP_PROP_FPS)\n",
    "fourcc = cv2.VideoWriter_fourcc(*'MP4V')\n",
    "output_video = None\n",
    "output_video_name = 'detection_output.mp4'\n",
    "\n",
    "frame_id = 0\n",
    "ret = True\n",
    "while ret:\n",
    "    ret, frame = cap.read()        \n",
    "    if ret:\n",
    "      print(f'process frame {frame_id}')\n",
    "      output_visual = detector.detect(frame, ['truck', 'bus', 'car'], verbose=False)      \n",
    "      if output_video is None:\n",
    "          frame_height, frame_width = output_visual.shape[:2]\n",
    "          output_video = cv2.VideoWriter(output_video_name, fourcc, fps, (frame_width, frame_height))\n",
    "      output_video.write(output_visual)\n",
    "      frame_id += 1\n",
    "      if frame_id > 100:\n",
    "        break\n",
    "\n",
    "cap.release()\n",
    "output_video.release()"
   ]
  },
  {
   "cell_type": "markdown",
   "metadata": {
    "id": "XMDKsoIA1_yi"
   },
   "source": [
    "## 3.3 Visualize result"
   ]
  },
  {
   "cell_type": "code",
   "execution_count": null,
   "metadata": {
    "id": "_ILDJ6Ch95qt"
   },
   "outputs": [],
   "source": [
    "import imageio\n",
    "import matplotlib.pyplot as plt\n",
    "import matplotlib.animation as animation\n",
    "from skimage.transform import resize\n",
    "from IPython.display import HTML\n",
    "\n",
    "# show_video doesn't work with opencv output video\n",
    "# try an alternative way to visualize it\n",
    "def display_video(video):\n",
    "    fig = plt.figure(figsize=(40, 10))  #Display size specification\n",
    "    mov = []\n",
    "    for i in range(len(video)):  #Append videos one by one to mov\n",
    "        img = plt.imshow(video[i], animated=True)\n",
    "        plt.axis('off')\n",
    "        mov.append([img])\n",
    "    #Animation creation\n",
    "    anime = animation.ArtistAnimation(fig, mov, interval=50, repeat_delay=1000)\n",
    "    plt.close()\n",
    "    return anime\n",
    "\n",
    "\n",
    "video = imageio.mimread(output_video_name)  #Loading video\n",
    "HTML(display_video(video).to_html5_video())  #Inline video display in HTML5"
   ]
  }
 ],
 "metadata": {
  "accelerator": "GPU",
  "colab": {
   "provenance": []
  },
  "gpuClass": "standard",
  "kernelspec": {
   "display_name": "Python 3 (ipykernel)",
   "language": "python",
   "name": "python3"
  },
  "language_info": {
   "codemirror_mode": {
    "name": "ipython",
    "version": 3
   },
   "file_extension": ".py",
   "mimetype": "text/x-python",
   "name": "python",
   "nbconvert_exporter": "python",
   "pygments_lexer": "ipython3",
   "version": "3.11.3"
  }
 },
 "nbformat": 4,
 "nbformat_minor": 4
}
